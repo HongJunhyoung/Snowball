{
 "cells": [
  {
   "cell_type": "markdown",
   "metadata": {},
   "source": [
    "# Snowball sample code"
   ]
  },
  {
   "cell_type": "markdown",
   "metadata": {},
   "source": [
    "---"
   ]
  },
  {
   "cell_type": "markdown",
   "metadata": {},
   "source": [
    "## 한국 주식/채권 60/40\n",
    "- 한국 주식 ETF와 한국 국채3년 ETF를 60/40으로 매월 리밸런싱"
   ]
  },
  {
   "cell_type": "code",
   "execution_count": null,
   "metadata": {
    "scrolled": true
   },
   "outputs": [],
   "source": [
    "import yfinance as yf\n",
    "import snowball as sb\n",
    "\n",
    "eqt_kr = '069500.KS' # KODEX 200\n",
    "bnd_kr = '114820.KS' # TIGER 국채3년\n",
    "price_data = yf.download([eqt_kr, bnd_kr], period='MAX')['Adj Close']\n",
    "\n",
    "kor_bal_64 = sb.backtest(prices=price_data, \n",
    "                         schedule='EOM', \n",
    "                         weight={eqt_kr: 0.6, \n",
    "                                 bnd_kr: 0.4},\n",
    "                         start='2012-12-01')\n",
    "kor_bal_64.report()"
   ]
  },
  {
   "cell_type": "markdown",
   "metadata": {},
   "source": [
    "## 노브레이너 No Brainer by Bill Bernstein\n",
    "- 미국 대형주, 미국 소형주, 미국외 전세계 주식, 미국 채권을 매년 25%씩 리밸런싱\n",
    "- 미국 ETF로 구성된 포트폴리오이며, 수익률 및 모든 평가지표는 USD기준임"
   ]
  },
  {
   "cell_type": "code",
   "execution_count": null,
   "metadata": {
    "scrolled": false
   },
   "outputs": [],
   "source": [
    "import yfinance as yf\n",
    "import snowball as sb\n",
    "\n",
    "eqt_lg = 'VV'\n",
    "eqt_sm = 'IJR'\n",
    "eqt_wl = 'VEU'\n",
    "bnd_us = 'SHY'\n",
    "price_data = yf.download([eqt_lg, eqt_sm, eqt_wl, bnd_us], period='MAX')['Adj Close']\n",
    "\n",
    "no_brainer = sb.backtest(prices=price_data, \n",
    "                         schedule='EOY', \n",
    "                         weight={eqt_lg: 0.25, \n",
    "                                 eqt_sm: 0.25, \n",
    "                                 eqt_wl: 0.25,\n",
    "                                 bnd_us: 0.25},\n",
    "                         start='2007-12-01')\n",
    "no_brainer.report()"
   ]
  },
  {
   "cell_type": "markdown",
   "metadata": {},
   "source": [
    "## 올시즌 All Sesasons Portfolio by Tony Robbins\n",
    "- Ray Dalio의 All Weather 전략의 간소화 버전\n",
    "- 매분기 고정 비율로 리밸런싱\n",
    "- 미국 ETF로 구성된 포트폴리오이며, 수익률 및 모든 평가지표는 USD기준임"
   ]
  },
  {
   "cell_type": "code",
   "execution_count": null,
   "metadata": {
    "scrolled": false
   },
   "outputs": [],
   "source": [
    "import yfinance as yf\n",
    "import snowball as sb\n",
    "\n",
    "equs = 'VTI'\n",
    "bndl = 'TLT'\n",
    "bndm = 'IEI'\n",
    "gold = 'GLD'\n",
    "cmmd = 'GSG'\n",
    "price_data = yf.download([equs, bndl, bndm, gold, cmmd], period='MAX')['Adj Close']\n",
    "\n",
    "all_season = sb.backtest(prices=price_data, \n",
    "                         schedule='EOQ', \n",
    "                         weight={equs: 0.3, \n",
    "                                 bndl: 0.4, \n",
    "                                 bndm: 0.15, \n",
    "                                 gold: 0.075,\n",
    "                                 cmmd: 0.075},\n",
    "                         start='2007-03-01')\n",
    "all_season.report()"
   ]
  }
 ],
 "metadata": {
  "kernelspec": {
   "display_name": "Python 3",
   "language": "python",
   "name": "python3"
  },
  "language_info": {
   "codemirror_mode": {
    "name": "ipython",
    "version": 3
   },
   "file_extension": ".py",
   "mimetype": "text/x-python",
   "name": "python",
   "nbconvert_exporter": "python",
   "pygments_lexer": "ipython3",
   "version": "3.7.9"
  }
 },
 "nbformat": 4,
 "nbformat_minor": 4
}
